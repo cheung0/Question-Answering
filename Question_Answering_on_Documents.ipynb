{
  "cells": [
    {
      "cell_type": "markdown",
      "metadata": {
        "id": "view-in-github",
        "colab_type": "text"
      },
      "source": [
        "<a href=\"https://colab.research.google.com/github/cheung0/Question-Answering/blob/main/Question_Answering_on_Documents.ipynb\" target=\"_parent\"><img src=\"https://colab.research.google.com/assets/colab-badge.svg\" alt=\"Open In Colab\"/></a>"
      ]
    },
    {
      "cell_type": "markdown",
      "metadata": {
        "id": "P6xh7KK_e5l9"
      },
      "source": [
        "### Information Retreival - LangChain\n",
        "- Without Using OpenAI Embeddings\n",
        "- Without OpenAI LLM"
      ]
    },
    {
      "cell_type": "markdown",
      "metadata": {
        "id": "3HbUlsp3fS5p"
      },
      "source": [
        "Two Applications:\n",
        "- Text Documents\n",
        "- Multiple PDF Files"
      ]
    },
    {
      "cell_type": "markdown",
      "metadata": {
        "id": "Ra7uy0RhXd_2"
      },
      "source": [
        "### Get HUGGINGFACEHUB_API_KEY"
      ]
    },
    {
      "cell_type": "code",
      "execution_count": null,
      "metadata": {
        "id": "8AZVtuZiW9Il"
      },
      "outputs": [],
      "source": [
        "import os\n",
        "os.environ[\"HUGGINGFACEHUB_API_TOKEN\"] = \"hidden village\""
      ]
    },
    {
      "cell_type": "code",
      "source": [],
      "metadata": {
        "id": "jM9RLht_czFU"
      },
      "execution_count": null,
      "outputs": []
    },
    {
      "cell_type": "code",
      "source": [],
      "metadata": {
        "id": "ZEqHtUoPczH4"
      },
      "execution_count": null,
      "outputs": []
    },
    {
      "cell_type": "code",
      "source": [],
      "metadata": {
        "id": "lvPI_rbYczKY"
      },
      "execution_count": null,
      "outputs": []
    },
    {
      "cell_type": "code",
      "source": [],
      "metadata": {
        "id": "XcQLxR3XczMv"
      },
      "execution_count": null,
      "outputs": []
    },
    {
      "cell_type": "code",
      "source": [],
      "metadata": {
        "id": "OlGnTqB_czO4"
      },
      "execution_count": null,
      "outputs": []
    },
    {
      "cell_type": "code",
      "execution_count": null,
      "metadata": {
        "id": "J_hOAJzQmQi6"
      },
      "outputs": [],
      "source": []
    },
    {
      "cell_type": "markdown",
      "source": [
        "**Intro**\n",
        "\n",
        "How to ask questions on a document?\n",
        "So maybe you're a:\n",
        "1. College student and have a Biology final exam coming up and want to ask questions to a tutor but it's 3 AM.\n",
        "2. High school student on vacation and want to know about Taiwan's beautiful waterfalls before you go visit.\n",
        "3. Patient with psoriasis and have questions you want to ask your doctor about excimer laser therapy. \n",
        "\n",
        "In this example. \n",
        "Text -> NLP Model -> do cool stuff like asking questions which is what I’m doing today"
      ],
      "metadata": {
        "id": "AvaW21TedVWq"
      }
    },
    {
      "cell_type": "code",
      "execution_count": null,
      "metadata": {
        "colab": {
          "base_uri": "https://localhost:8080/"
        },
        "id": "ZEZmjGQGW1ue",
        "outputId": "2eb24ea5-d0ce-40c4-f52c-201d40ca99cb"
      },
      "outputs": [
        {
          "output_type": "stream",
          "name": "stdout",
          "text": [
            "Looking in indexes: https://pypi.org/simple, https://us-python.pkg.dev/colab-wheels/public/simple/\n",
            "Collecting langchain\n",
            "  Downloading langchain-0.0.190-py3-none-any.whl (983 kB)\n",
            "\u001b[2K     \u001b[90m━━━━━━━━━━━━━━━━━━━━━━━━━━━━━━━━━━━━━━\u001b[0m \u001b[32m983.2/983.2 kB\u001b[0m \u001b[31m13.6 MB/s\u001b[0m eta \u001b[36m0:00:00\u001b[0m\n",
            "\u001b[?25hRequirement already satisfied: PyYAML>=5.4.1 in /usr/local/lib/python3.10/dist-packages (from langchain) (6.0)\n",
            "Requirement already satisfied: SQLAlchemy<3,>=1.4 in /usr/local/lib/python3.10/dist-packages (from langchain) (2.0.10)\n",
            "Collecting aiohttp<4.0.0,>=3.8.3 (from langchain)\n",
            "  Downloading aiohttp-3.8.4-cp310-cp310-manylinux_2_17_x86_64.manylinux2014_x86_64.whl (1.0 MB)\n",
            "\u001b[2K     \u001b[90m━━━━━━━━━━━━━━━━━━━━━━━━━━━━━━━━━━━━━━━━\u001b[0m \u001b[32m1.0/1.0 MB\u001b[0m \u001b[31m42.4 MB/s\u001b[0m eta \u001b[36m0:00:00\u001b[0m\n",
            "\u001b[?25hCollecting async-timeout<5.0.0,>=4.0.0 (from langchain)\n",
            "  Downloading async_timeout-4.0.2-py3-none-any.whl (5.8 kB)\n",
            "Collecting dataclasses-json<0.6.0,>=0.5.7 (from langchain)\n",
            "  Downloading dataclasses_json-0.5.7-py3-none-any.whl (25 kB)\n",
            "Requirement already satisfied: numexpr<3.0.0,>=2.8.4 in /usr/local/lib/python3.10/dist-packages (from langchain) (2.8.4)\n",
            "Requirement already satisfied: numpy<2,>=1 in /usr/local/lib/python3.10/dist-packages (from langchain) (1.22.4)\n",
            "Collecting openapi-schema-pydantic<2.0,>=1.2 (from langchain)\n",
            "  Downloading openapi_schema_pydantic-1.2.4-py3-none-any.whl (90 kB)\n",
            "\u001b[2K     \u001b[90m━━━━━━━━━━━━━━━━━━━━━━━━━━━━━━━━━━━━━━━━\u001b[0m \u001b[32m90.0/90.0 kB\u001b[0m \u001b[31m9.1 MB/s\u001b[0m eta \u001b[36m0:00:00\u001b[0m\n",
            "\u001b[?25hRequirement already satisfied: pydantic<2,>=1 in /usr/local/lib/python3.10/dist-packages (from langchain) (1.10.7)\n",
            "Requirement already satisfied: requests<3,>=2 in /usr/local/lib/python3.10/dist-packages (from langchain) (2.27.1)\n",
            "Requirement already satisfied: tenacity<9.0.0,>=8.1.0 in /usr/local/lib/python3.10/dist-packages (from langchain) (8.2.2)\n",
            "Requirement already satisfied: attrs>=17.3.0 in /usr/local/lib/python3.10/dist-packages (from aiohttp<4.0.0,>=3.8.3->langchain) (23.1.0)\n",
            "Requirement already satisfied: charset-normalizer<4.0,>=2.0 in /usr/local/lib/python3.10/dist-packages (from aiohttp<4.0.0,>=3.8.3->langchain) (2.0.12)\n",
            "Collecting multidict<7.0,>=4.5 (from aiohttp<4.0.0,>=3.8.3->langchain)\n",
            "  Downloading multidict-6.0.4-cp310-cp310-manylinux_2_17_x86_64.manylinux2014_x86_64.whl (114 kB)\n",
            "\u001b[2K     \u001b[90m━━━━━━━━━━━━━━━━━━━━━━━━━━━━━━━━━━━━━━━\u001b[0m \u001b[32m114.5/114.5 kB\u001b[0m \u001b[31m7.0 MB/s\u001b[0m eta \u001b[36m0:00:00\u001b[0m\n",
            "\u001b[?25hCollecting yarl<2.0,>=1.0 (from aiohttp<4.0.0,>=3.8.3->langchain)\n",
            "  Downloading yarl-1.9.2-cp310-cp310-manylinux_2_17_x86_64.manylinux2014_x86_64.whl (268 kB)\n",
            "\u001b[2K     \u001b[90m━━━━━━━━━━━━━━━━━━━━━━━━━━━━━━━━━━━━━━\u001b[0m \u001b[32m268.8/268.8 kB\u001b[0m \u001b[31m22.7 MB/s\u001b[0m eta \u001b[36m0:00:00\u001b[0m\n",
            "\u001b[?25hCollecting frozenlist>=1.1.1 (from aiohttp<4.0.0,>=3.8.3->langchain)\n",
            "  Downloading frozenlist-1.3.3-cp310-cp310-manylinux_2_5_x86_64.manylinux1_x86_64.manylinux_2_17_x86_64.manylinux2014_x86_64.whl (149 kB)\n",
            "\u001b[2K     \u001b[90m━━━━━━━━━━━━━━━━━━━━━━━━━━━━━━━━━━━━━━\u001b[0m \u001b[32m149.6/149.6 kB\u001b[0m \u001b[31m15.0 MB/s\u001b[0m eta \u001b[36m0:00:00\u001b[0m\n",
            "\u001b[?25hCollecting aiosignal>=1.1.2 (from aiohttp<4.0.0,>=3.8.3->langchain)\n",
            "  Downloading aiosignal-1.3.1-py3-none-any.whl (7.6 kB)\n",
            "Collecting marshmallow<4.0.0,>=3.3.0 (from dataclasses-json<0.6.0,>=0.5.7->langchain)\n",
            "  Downloading marshmallow-3.19.0-py3-none-any.whl (49 kB)\n",
            "\u001b[2K     \u001b[90m━━━━━━━━━━━━━━━━━━━━━━━━━━━━━━━━━━━━━━━━\u001b[0m \u001b[32m49.1/49.1 kB\u001b[0m \u001b[31m4.4 MB/s\u001b[0m eta \u001b[36m0:00:00\u001b[0m\n",
            "\u001b[?25hCollecting marshmallow-enum<2.0.0,>=1.5.1 (from dataclasses-json<0.6.0,>=0.5.7->langchain)\n",
            "  Downloading marshmallow_enum-1.5.1-py2.py3-none-any.whl (4.2 kB)\n",
            "Collecting typing-inspect>=0.4.0 (from dataclasses-json<0.6.0,>=0.5.7->langchain)\n",
            "  Downloading typing_inspect-0.9.0-py3-none-any.whl (8.8 kB)\n",
            "Requirement already satisfied: typing-extensions>=4.2.0 in /usr/local/lib/python3.10/dist-packages (from pydantic<2,>=1->langchain) (4.5.0)\n",
            "Requirement already satisfied: urllib3<1.27,>=1.21.1 in /usr/local/lib/python3.10/dist-packages (from requests<3,>=2->langchain) (1.26.15)\n",
            "Requirement already satisfied: certifi>=2017.4.17 in /usr/local/lib/python3.10/dist-packages (from requests<3,>=2->langchain) (2022.12.7)\n",
            "Requirement already satisfied: idna<4,>=2.5 in /usr/local/lib/python3.10/dist-packages (from requests<3,>=2->langchain) (3.4)\n",
            "Requirement already satisfied: greenlet!=0.4.17 in /usr/local/lib/python3.10/dist-packages (from SQLAlchemy<3,>=1.4->langchain) (2.0.2)\n",
            "Requirement already satisfied: packaging>=17.0 in /usr/local/lib/python3.10/dist-packages (from marshmallow<4.0.0,>=3.3.0->dataclasses-json<0.6.0,>=0.5.7->langchain) (23.1)\n",
            "Collecting mypy-extensions>=0.3.0 (from typing-inspect>=0.4.0->dataclasses-json<0.6.0,>=0.5.7->langchain)\n",
            "  Downloading mypy_extensions-1.0.0-py3-none-any.whl (4.7 kB)\n",
            "Installing collected packages: mypy-extensions, multidict, marshmallow, frozenlist, async-timeout, yarl, typing-inspect, openapi-schema-pydantic, marshmallow-enum, aiosignal, dataclasses-json, aiohttp, langchain\n",
            "Successfully installed aiohttp-3.8.4 aiosignal-1.3.1 async-timeout-4.0.2 dataclasses-json-0.5.7 frozenlist-1.3.3 langchain-0.0.190 marshmallow-3.19.0 marshmallow-enum-1.5.1 multidict-6.0.4 mypy-extensions-1.0.0 openapi-schema-pydantic-1.2.4 typing-inspect-0.9.0 yarl-1.9.2\n",
            "Looking in indexes: https://pypi.org/simple, https://us-python.pkg.dev/colab-wheels/public/simple/\n",
            "Collecting huggingface_hub\n",
            "  Downloading huggingface_hub-0.15.1-py3-none-any.whl (236 kB)\n",
            "\u001b[2K     \u001b[90m━━━━━━━━━━━━━━━━━━━━━━━━━━━━━━━━━━━━━━━\u001b[0m \u001b[32m236.8/236.8 kB\u001b[0m \u001b[31m5.4 MB/s\u001b[0m eta \u001b[36m0:00:00\u001b[0m\n",
            "\u001b[?25hRequirement already satisfied: filelock in /usr/local/lib/python3.10/dist-packages (from huggingface_hub) (3.12.0)\n",
            "Requirement already satisfied: fsspec in /usr/local/lib/python3.10/dist-packages (from huggingface_hub) (2023.4.0)\n",
            "Requirement already satisfied: requests in /usr/local/lib/python3.10/dist-packages (from huggingface_hub) (2.27.1)\n",
            "Requirement already satisfied: tqdm>=4.42.1 in /usr/local/lib/python3.10/dist-packages (from huggingface_hub) (4.65.0)\n",
            "Requirement already satisfied: pyyaml>=5.1 in /usr/local/lib/python3.10/dist-packages (from huggingface_hub) (6.0)\n",
            "Requirement already satisfied: typing-extensions>=3.7.4.3 in /usr/local/lib/python3.10/dist-packages (from huggingface_hub) (4.5.0)\n",
            "Requirement already satisfied: packaging>=20.9 in /usr/local/lib/python3.10/dist-packages (from huggingface_hub) (23.1)\n",
            "Requirement already satisfied: urllib3<1.27,>=1.21.1 in /usr/local/lib/python3.10/dist-packages (from requests->huggingface_hub) (1.26.15)\n",
            "Requirement already satisfied: certifi>=2017.4.17 in /usr/local/lib/python3.10/dist-packages (from requests->huggingface_hub) (2022.12.7)\n",
            "Requirement already satisfied: charset-normalizer~=2.0.0 in /usr/local/lib/python3.10/dist-packages (from requests->huggingface_hub) (2.0.12)\n",
            "Requirement already satisfied: idna<4,>=2.5 in /usr/local/lib/python3.10/dist-packages (from requests->huggingface_hub) (3.4)\n",
            "Installing collected packages: huggingface_hub\n",
            "Successfully installed huggingface_hub-0.15.1\n",
            "Looking in indexes: https://pypi.org/simple, https://us-python.pkg.dev/colab-wheels/public/simple/\n",
            "Collecting sentence_transformers\n",
            "  Downloading sentence-transformers-2.2.2.tar.gz (85 kB)\n",
            "\u001b[2K     \u001b[90m━━━━━━━━━━━━━━━━━━━━━━━━━━━━━━━━━━━━━━━━\u001b[0m \u001b[32m86.0/86.0 kB\u001b[0m \u001b[31m3.0 MB/s\u001b[0m eta \u001b[36m0:00:00\u001b[0m\n",
            "\u001b[?25h  Preparing metadata (setup.py) ... \u001b[?25l\u001b[?25hdone\n",
            "Collecting transformers<5.0.0,>=4.6.0 (from sentence_transformers)\n",
            "  Downloading transformers-4.29.2-py3-none-any.whl (7.1 MB)\n",
            "\u001b[2K     \u001b[90m━━━━━━━━━━━━━━━━━━━━━━━━━━━━━━━━━━━━━━━━\u001b[0m \u001b[32m7.1/7.1 MB\u001b[0m \u001b[31m50.2 MB/s\u001b[0m eta \u001b[36m0:00:00\u001b[0m\n",
            "\u001b[?25hRequirement already satisfied: tqdm in /usr/local/lib/python3.10/dist-packages (from sentence_transformers) (4.65.0)\n",
            "Requirement already satisfied: torch>=1.6.0 in /usr/local/lib/python3.10/dist-packages (from sentence_transformers) (2.0.1+cu118)\n",
            "Requirement already satisfied: torchvision in /usr/local/lib/python3.10/dist-packages (from sentence_transformers) (0.15.2+cu118)\n",
            "Requirement already satisfied: numpy in /usr/local/lib/python3.10/dist-packages (from sentence_transformers) (1.22.4)\n",
            "Requirement already satisfied: scikit-learn in /usr/local/lib/python3.10/dist-packages (from sentence_transformers) (1.2.2)\n",
            "Requirement already satisfied: scipy in /usr/local/lib/python3.10/dist-packages (from sentence_transformers) (1.10.1)\n",
            "Requirement already satisfied: nltk in /usr/local/lib/python3.10/dist-packages (from sentence_transformers) (3.8.1)\n",
            "Collecting sentencepiece (from sentence_transformers)\n",
            "  Downloading sentencepiece-0.1.99-cp310-cp310-manylinux_2_17_x86_64.manylinux2014_x86_64.whl (1.3 MB)\n",
            "\u001b[2K     \u001b[90m━━━━━━━━━━━━━━━━━━━━━━━━━━━━━━━━━━━━━━━━\u001b[0m \u001b[32m1.3/1.3 MB\u001b[0m \u001b[31m49.6 MB/s\u001b[0m eta \u001b[36m0:00:00\u001b[0m\n",
            "\u001b[?25hRequirement already satisfied: huggingface-hub>=0.4.0 in /usr/local/lib/python3.10/dist-packages (from sentence_transformers) (0.15.1)\n",
            "Requirement already satisfied: filelock in /usr/local/lib/python3.10/dist-packages (from huggingface-hub>=0.4.0->sentence_transformers) (3.12.0)\n",
            "Requirement already satisfied: fsspec in /usr/local/lib/python3.10/dist-packages (from huggingface-hub>=0.4.0->sentence_transformers) (2023.4.0)\n",
            "Requirement already satisfied: requests in /usr/local/lib/python3.10/dist-packages (from huggingface-hub>=0.4.0->sentence_transformers) (2.27.1)\n",
            "Requirement already satisfied: pyyaml>=5.1 in /usr/local/lib/python3.10/dist-packages (from huggingface-hub>=0.4.0->sentence_transformers) (6.0)\n",
            "Requirement already satisfied: typing-extensions>=3.7.4.3 in /usr/local/lib/python3.10/dist-packages (from huggingface-hub>=0.4.0->sentence_transformers) (4.5.0)\n",
            "Requirement already satisfied: packaging>=20.9 in /usr/local/lib/python3.10/dist-packages (from huggingface-hub>=0.4.0->sentence_transformers) (23.1)\n",
            "Requirement already satisfied: sympy in /usr/local/lib/python3.10/dist-packages (from torch>=1.6.0->sentence_transformers) (1.11.1)\n",
            "Requirement already satisfied: networkx in /usr/local/lib/python3.10/dist-packages (from torch>=1.6.0->sentence_transformers) (3.1)\n",
            "Requirement already satisfied: jinja2 in /usr/local/lib/python3.10/dist-packages (from torch>=1.6.0->sentence_transformers) (3.1.2)\n",
            "Requirement already satisfied: triton==2.0.0 in /usr/local/lib/python3.10/dist-packages (from torch>=1.6.0->sentence_transformers) (2.0.0)\n",
            "Requirement already satisfied: cmake in /usr/local/lib/python3.10/dist-packages (from triton==2.0.0->torch>=1.6.0->sentence_transformers) (3.25.2)\n",
            "Requirement already satisfied: lit in /usr/local/lib/python3.10/dist-packages (from triton==2.0.0->torch>=1.6.0->sentence_transformers) (16.0.5)\n",
            "Requirement already satisfied: regex!=2019.12.17 in /usr/local/lib/python3.10/dist-packages (from transformers<5.0.0,>=4.6.0->sentence_transformers) (2022.10.31)\n",
            "Collecting tokenizers!=0.11.3,<0.14,>=0.11.1 (from transformers<5.0.0,>=4.6.0->sentence_transformers)\n",
            "  Downloading tokenizers-0.13.3-cp310-cp310-manylinux_2_17_x86_64.manylinux2014_x86_64.whl (7.8 MB)\n",
            "\u001b[2K     \u001b[90m━━━━━━━━━━━━━━━━━━━━━━━━━━━━━━━━━━━━━━━━\u001b[0m \u001b[32m7.8/7.8 MB\u001b[0m \u001b[31m93.4 MB/s\u001b[0m eta \u001b[36m0:00:00\u001b[0m\n",
            "\u001b[?25hRequirement already satisfied: click in /usr/local/lib/python3.10/dist-packages (from nltk->sentence_transformers) (8.1.3)\n",
            "Requirement already satisfied: joblib in /usr/local/lib/python3.10/dist-packages (from nltk->sentence_transformers) (1.2.0)\n",
            "Requirement already satisfied: threadpoolctl>=2.0.0 in /usr/local/lib/python3.10/dist-packages (from scikit-learn->sentence_transformers) (3.1.0)\n",
            "Requirement already satisfied: pillow!=8.3.*,>=5.3.0 in /usr/local/lib/python3.10/dist-packages (from torchvision->sentence_transformers) (8.4.0)\n",
            "Requirement already satisfied: MarkupSafe>=2.0 in /usr/local/lib/python3.10/dist-packages (from jinja2->torch>=1.6.0->sentence_transformers) (2.1.2)\n",
            "Requirement already satisfied: urllib3<1.27,>=1.21.1 in /usr/local/lib/python3.10/dist-packages (from requests->huggingface-hub>=0.4.0->sentence_transformers) (1.26.15)\n",
            "Requirement already satisfied: certifi>=2017.4.17 in /usr/local/lib/python3.10/dist-packages (from requests->huggingface-hub>=0.4.0->sentence_transformers) (2022.12.7)\n",
            "Requirement already satisfied: charset-normalizer~=2.0.0 in /usr/local/lib/python3.10/dist-packages (from requests->huggingface-hub>=0.4.0->sentence_transformers) (2.0.12)\n",
            "Requirement already satisfied: idna<4,>=2.5 in /usr/local/lib/python3.10/dist-packages (from requests->huggingface-hub>=0.4.0->sentence_transformers) (3.4)\n",
            "Requirement already satisfied: mpmath>=0.19 in /usr/local/lib/python3.10/dist-packages (from sympy->torch>=1.6.0->sentence_transformers) (1.3.0)\n",
            "Building wheels for collected packages: sentence_transformers\n",
            "  Building wheel for sentence_transformers (setup.py) ... \u001b[?25l\u001b[?25hdone\n",
            "  Created wheel for sentence_transformers: filename=sentence_transformers-2.2.2-py3-none-any.whl size=125926 sha256=6416ac0cdda1f97e538a35d945faf5ab90d6403ca69509978d7abc9bdecda301\n",
            "  Stored in directory: /root/.cache/pip/wheels/62/f2/10/1e606fd5f02395388f74e7462910fe851042f97238cbbd902f\n",
            "Successfully built sentence_transformers\n",
            "Installing collected packages: tokenizers, sentencepiece, transformers, sentence_transformers\n",
            "Successfully installed sentence_transformers-2.2.2 sentencepiece-0.1.99 tokenizers-0.13.3 transformers-4.29.2\n"
          ]
        }
      ],
      "source": [
        "!pip install langchain\n",
        "!pip install huggingface_hub\n",
        "!pip install sentence_transformers"
      ]
    },
    {
      "cell_type": "markdown",
      "metadata": {
        "id": "hALLW9fyXWqu"
      },
      "source": [
        "### Download Text File"
      ]
    },
    {
      "cell_type": "code",
      "execution_count": null,
      "metadata": {
        "id": "j9lr1BOMXTVr"
      },
      "outputs": [],
      "source": [
        "#import requests\n",
        "\n",
        "#url = \"https://raw.githubusercontent.com/hwchase17/langchain/master/docs/modules/state_of_the_union.txt\"\n",
        "#res = requests.get(url)\n",
        "#file_path = '/content/excimer laser.txt'  # Specify the desired file path\n",
        "#with open(file_path, \"w\") as f:\n",
        "#    f.write(res.text)"
      ]
    },
    {
      "cell_type": "code",
      "execution_count": null,
      "metadata": {
        "id": "sVio4mK5XVwR"
      },
      "outputs": [],
      "source": [
        "# Document Loader\n",
        "# Remember to change path!\n",
        "path = '/Untitled document.txt'\n",
        "\n",
        "# Read the contents of the input file\n",
        "with open(path, 'r') as file:\n",
        "    content = file.read()\n",
        "\n",
        "# Split the content into individual sentences\n",
        "sentences = content.split('. ')\n",
        "\n",
        "# Remove leading and trailing spaces from each sentence\n",
        "sentences = [sentence.strip() for sentence in sentences]\n",
        "\n",
        "# Join the sentences with the desired format\n",
        "formatted_text = \".\\n\\n\".join(sentences)\n",
        "\n",
        "# Write the formatted text to a new file\n",
        "with open(path, 'w') as file:\n",
        "    file.write(formatted_text)\n",
        "\n",
        "\n",
        "from langchain.document_loaders import TextLoader\n",
        "loader = TextLoader(path)\n",
        "\n",
        "documents = loader.load()"
      ]
    },
    {
      "cell_type": "code",
      "execution_count": null,
      "metadata": {
        "colab": {
          "base_uri": "https://localhost:8080/"
        },
        "id": "Du41v2SOnXtG",
        "outputId": "68e8bc87-43b4-4dc8-b78c-ec58cbf39263"
      },
      "outputs": [
        {
          "output_type": "execute_result",
          "data": {
            "text/plain": [
              "[Document(page_content='\\ufeffExcimer laser for the treatment of psoriasis: safety, efficacy, and patient acceptability.\\n\\nThe 308 nm excimer laser is a widely used device throughout the field of dermatology for many diseases including psoriasis.\\n\\nAlthough the laser has demonstrated clinical efficacy, there is a lack of literature outlining the safety, efficacy, and patient acceptability of the excimer laser.\\nA literature search on PubMed was used with combinations of the terms “excimer”, “excimer laser”, “308 nm”, “psoriasis”, “protocol”, “safety”, “efficacy”, acceptability”, “side effects”, and “dose”.\\n\\nThe search results were included if they contained information pertaining to excimer laser and psoriasis treatment and description of the safety, efficacy, and patient acceptability of the treatment.\\nThe 308 nm excimer laser is generally safe and well tolerated with minimal side effects including erythema, blistering, and pigmentary changes.\\n\\nIt has a range of efficacies depending on the protocol used with several different treatment protocols, including the induration protocol, the minimal erythema dose protocol, and the newer minimal blistering dose protocol.\\nAlthough the excimer laser is not a first-line treatment, it remains an excellent treatment option for psoriasis patients and has been demonstrated to be an effective treatment with little to no side effects.The 308 nm excimer laser is a widely used device throughout the field of dermatology for many diseases, including psoriasis, vitiligo, hypopigmented disorders, alopecia areata, atopic dermatitis, and in many other dermatologic diseases such as cutaneous T-cell lymphoma, other lymphoproliferative disorders, granuloma annulare, Langerhans cell histiocytosis, lichen planus, and localized scleroderma.1,2 The term excimer is derived from “excited dimer,” which describes the mixture of the noble gas xenon and the halogen chloride gas (XeCl) that is utilized.\\n\\nThe dissociation of these excited dimers produces a 308 nm ultraviolet (UV) monochromatic coherent wavelength, which lies within the UVB spectrum.1,3 Although the excimer laser can be used in the treatment of many dermatologic conditions, this study will focus on the treatment of psoriasis.\\nPsoriasis is a chronic, inflammatory disease that primarily manifests with cutaneous findings and affects ~3% of the American population.4 The current understanding of the pathogenesis and pathophysiology of psoriasis is continuing to evolve, but the majority of knowledge surrounds the most classical variant, psoriasis vulgaris.\\n\\nPsoriasis vulgaris compromises more than 80% of cases, usually present with raised, well-demarcated, erythematous oval plaques with adherent silvery scale.\\n\\nIt is a complex immune-mediated disease propagated by abnormal interactions between T lymphocytes, dendritic cells, keratinocytes, neutrophils, and proinflammatory cytokines.\\nThe initiation of psoriasis begins with an amalgamation between environment and genetic factors.\\n\\nThe innate immune system provides an early, preformed response as a mechanism against harm to the host and has been implicated in the development of psoriasis.\\n\\nCytokines produced from innate immune cells activate myeloid dendritic cells, which in turn present antigens and secrete mediators leading to Th17 and Th1 differentiation.\\n\\nThese T cells secrete mediators that activate keratinocytes and induce production of antimicrobial peptides, proinflammatory peptides, and chemokines that create a positive feedback loop and maintain an active psoriatic disease cycle.5,6 These psoriatic lesions arise from alterations in the skin consisting of decreased keratinocyte maturation, increased keratinocyte proliferation, and vascular changes consistent with proliferation and dilatation.4 Histologically, acanthosis, parakeratosis, elongated rete ridges, and a mixed cellular infiltrate characterize psoriasis.\\n\\nMore specifically, inflammatory cells such as dendritic cells, macrophages, and CD3+ T cells and CD8+ T cells are detected in the dermis, whereas neutrophils and some CD3+ T cells and CD8+ T cells are detected in the epidermis.5 The aforementioned synopsis of the pathogenesis and pathophysiology of psoriasis will be crucial for the understanding of the mechanism of action of the excimer laser.\\nThe mechanism of action of the excimer laser, similar to the action of UVB light, induces apoptosis in keratinocytes and T lymphocytes.\\n\\nThe absorption of 308 nm wavelength induces DNA breakage, upregulation of the tumor suppressor gene p53, and subsequent reduction of proto-oncogene Bcl-2, leading to cell cycle arrest in keratinocytes and T lymphocytes.1 This breaks the positive feedback loop and halts the psoriatic disease cycle created by the activated T lymphocytes.\\n\\nFurthermore, Kagen et al demonstrated that very high doses of excimer laser treatment in psoriatic lesions reduced the numbers of pathogenic memory/effector T cells infiltrating lesional epidermis and dermis.\\nWhile the importance of the excimer laser in the treatment of psoriasis will be discussed, it is interesting to note the origins of the excimer laser.\\n\\nThe excimer laser was invented in 1970 by Nikolai Basov et al by using a xenon dimer (Xe2).\\n\\nThis Xe2 excimer laser emitted at 172 nm, and with this a new class of lasers were invented.8 The first applications of the excimer lasers were within various research laboratories, including Avco Everett Research Laboratory, Sandia Laboratories, the Northrop Research and Technology Center, and the United States Government’s Naval Research Laboratory.9\\nThe initial application of the excimer laser in the medical field emerged in 1983 from the collaboration of Rangaswamy Srinivasan and the ophthalmic surgeon Stephen Trokel.10,11 This collaboration led to the development of LASIK surgery procedure, which has been performed over 28 million times worldwide as of 2009.\\n\\nThe excimer laser has been adopted by other medical disciplines such as cardiology, dentistry, and orthopedics.12–14\\nBonis et al were the first to study the use of the 308 nm XeCl excimer laser in the field of dermatology in 1997.\\n\\nThey investigated the use of excimer laser for treatment of 10 patients with chronic plaque psoriasis and concluded that it was an effective treatment option.15 Since its initial introduction to dermatology, use of the excimer laser as a treatment option has expanded to applications in many dermatologic diseases.\\n\\nPsoriasis treatment with excimer laser has proven to be effective even in early studies with Feldman et al demonstrating 84% of patients achieving a 75% or better improvement after 10 or fewer treatments.\\n\\nExcimer laser is currently indicated for adult and pediatric patients with mild, moderate, or severe psoriasis with <10% body surface area involvement and the American Academy of Dermatology states the level of evidence is II and the strength of recommendation is B.\\n\\nA literature search on PubMed was used with combinations of the terms “excimer”, “excimer laser”, “308 nm”, “psoriasis”, “protocol”, “safety”, “efficacy”, acceptability”, “side effects”, and “dose”.\\n\\nThe search results were included if they contained information pertaining to excimer laser and psoriasis treatment and description of the safety, efficacy, and patient acceptability of the treatment.\\nIn this study, the main relevant literature pertaining to the excimer laser for the treatment of psoriasis will be reviewed.\\nInitially used in the treatment of refractory moderate plaque psoriasis, the 308 nm excimer laser uses UVB light to induce apoptosis, break DNA strands and, ultimately, decrease T-lymphocyte proliferation.\\n\\nThe UVB emitted from the laser helps regulate the p53 tumor suppressor pathway inducing cell cycle arrest and deterring inflammatory processes.15 As a result, repigmentation of the treated areas is thought to occur due to elevated levels of peptide ET-1, as well as melanocyte re-migration and proliferation.1 With this knowledge, the utilization of the excimer laser has been expanded to include a host of various cutaneous diseases.\\n\\nIn general, four main categories of cutaneous diseases can be currently treated with the 308 nm excimer laser: psoriatic lesions—which will be the focus of this review—apigmented and hypopigmented lesions, pruritic disorders, and follicular diseases.\\nWhen compared to the narrow band UVB laser, the 308 nm laser has an increased induction rate of T-cell apoptosis.1 Compared with traditional narrow band UV therapy, the excimer laser requires on average less number of treatment sessions and thus a smaller amount of cumulative UVB exposure.\\n\\nThis aspect potentially reduces the patient’s skin cancer risk and can feasibly improve patient compliance.1 Furthermore, the excimer laser has the ability to target difficult to reach areas and administer site-specific dosing.16 Also, it can operate with the ability to change the energy level (in millijoules) delivered during treatment.\\n\\nFew adverse reactions have been reported, and they are consistent with adverse reactions associated with other forms of phototherapy including erythema, blistering, hyperpigmentation, and hypopigmentation.\\nThe 308 nm excimer laser was initially studied for the treatment of moderate plaque psoriasis by Bonis et al in 1997.\\n\\nThis study suggests that nine sessions on average equating to a mean cumulative dose of 4.45 J UVB are adequate for complete plaque resolution.\\n\\nThis dose was found to be lower than the dose reached with narrow band UVB treatment.15 Kemeny and colleagues further investigated the laser and found that patients treated at this dose remain lesion free for ~2 years.17 These initial studies were of smaller scale (n = 10).\\n\\nIn the recent past, several groups have focused on larger scale studies that demonstrate the safety and use of the laser for individuals with mild to moderate localized plaque psoriasis.\\n\\nThe laser is particularly useful if these individuals have a suboptimal response or contraindications to topical or intralesional treatments.\\n\\nThese studies also confirm that an average of 10 treatments should clear the plaques.\\nIn addition to plaque psoriasis, the 308 nm laser is useful in the treatment of intertriginous psoriasis as demonstrated by a few case reports.23,24 Recently, split scalp studies have shown beneficial results of the laser in treating scalp psoriasis.\\n\\nResolution in these patients generally requires more treatments than non-intertriginous psoriatic lesions.\\n\\nFor example, one study demonstrated improvement with 21 sessions.\\nAdjunctive topical therapies can also be used to augment the laser’s results.\\n\\nSeveral topicals have been studied including dithranol ointment, flumetasone/salicylic acid ointment, calcipotriol ointment, clobetasol spray, and calcitriol ointment.27–30 In one study by Rogalski et al, addition of dithranol ointment to the excimer laser protocol resulted in a reduced Psoriasis Area and Severity Index (PASI) score.27 Furthermore, use of flumetasone/salicylic acid ointment resulted in a lower cumulative UVB dose, as well as plaque improvement.\\n\\nFinally, use of clobetasol spray and ointment in conjunction with the excimer laser resulted in a safer side effect profile, as well as improved clearance of lesions in the long term.30\\nThe 308 nm can also be used in the treatment of mild to moderate plaque psoriasis in children.\\n\\nA recent study by Pahlajani et al compares the safety and efficacy of the excimer laser for the treatment of mild to moderate plaque localized psoriasis in adults and children.\\n\\nOn average, 12.5 (SD 2.64) treatments were needed for resolution in children, while 9.7 (SD 2.53) sessions were needed for adults.\\n\\nCommon side effects associated with the laser were consistent with side effects seen in adult patients and included: hyperpigmentation, blistering, erosions, pain, and koebnerization.31 In general, side effects were more typical in the adult population with the most common one being erosions.\\n\\nHyperpigmentation was the most common side effect in the pediatric group.\\n\\nFuture studies pertaining to the safety of the 308 nm laser in the treatment of psoriasis will presumably include continued modification of the treatment protocol to reduce the number of treatments needed for plaque resolution, while still resulting in longer periods of plaque remission.\\nIn addition to psoriasis, a vast number of other cutaneous diseases can also be treated with the excimer laser.\\n\\nAs previously postulated, the 308 nm excimer laser plays a role in melanocyte re-migration and thus has been shown to be beneficial in the treatment of vitiligo and hypopigmented disorders.\\n\\nVarious pruritic lesions treated with the 308 nm excimer laser have also demonstrated positive results.\\n\\nThe stigmata of atopic dermatitis, including: erythema, infiltration, lichenification, excoriations and pruritus can severely impact a patient’s quality of life.\\n\\nOther conditions like lymphomatoid papulosis, granuloma annulare, Langerhans cell histiocytosis lichen planus, lichen planopilaris and localized scleroderma can also be treated with the excimer laser.\\n\\nComplete remission of cutaneous T-cell lymphoma has been demonstrated with biweekly excimer treatments.\\n\\nFinally, alopecia areata can be treated with the 308nm excimer laser.\\n\\nHowever, the laser has not shown improvement in alopecia universalis, alopecia totalis, or patches on the extremities.\\nFirst described in 1997 by Bonis et al, the 308 nm excimer laser has become a major tool in the armamentarium of the dermatologist in treating various types of cutaneous diseases.\\n\\nOver the years the excimer laser has evolved in its clinical usage, and appropriately, so have the treatment protocols that are used in clinical practice.\\n\\nSeveral different treatment protocols have been developed and optimized to more effectively treat psoriatic lesions and to achieve greater improvements in the PASI score with fewer treatments.\\n\\nThe three main protocols used for the treatment of psoriasis include: the minimal erythema dose (MED) protocol, the induration protocol, and the newer minimal blistering dose (MBD) protocol.\\nThe MED is established by first testing healthy, non-psoriatic skin and determining the minimal dose (millijoules) that causes a well-demarcated, minimally erythematous pink macule.33 Typically, with this method, the patient the will require two initial visits to calibrate the MED, with a total of 12 treatments sessions thereafter to reach PASI-75.18 Information pertaining to exact treatment dosages in terms of millijoules is limited, as studies only report cumulative doses at the end of the patient treatment course.\\n\\nOne study by Asawanonda et al extrapolates dosing in millijoules from a mean MED of 203.3 mJ to correlate with ~3.248 mJ.\\nThe induration-based protocol is another method for determining treatment dosing.\\n\\nTaneja and colleagues innovated this method whereby an initial dose is based on the induration component of the modified PASI and subsequent doses are based on the change in induration.\\n\\nCompared to the MED protocol, the induration method allows for clinicians to modify the dose as plaques begin to change in response to treatment.\\n\\nOn average, plaques treated with this protocol achieved PASI-75 after 10 treatments.\\nOne report published by Debbaneh et al describes using a minimal blister dose (MBD) for excimer laser treatment.\\n\\nThis protocol identifies the minimum dose at which the patient will blister, and then subsequent treatments are administered at doses less than the MBD.\\n\\nIn theory, this achieves the maximum possible dose that a plaque can sustain without blistering the skin.\\n\\nFor example, in the case aforementioned, the patient was tested with doses ranging from 300 to 1700 mJ.\\n\\nThe MBD was established at 1500 mJ, and a sub-blistering starting dose was established at 1300 mJ.\\n\\nThe patient was then treated for 12 days following the initial treatment at a sub-blistering does of 800 mJ.\\n\\nAt his 1-week follow up, the patient was noted to have achieved PASI-75.\\nAlthough there have been no studies formally evaluating patient acceptability of the excimer laser treatment, the previously mentioned safety profile for excimer laser treatment of psoriasis makes it a generally well-tolerated treatment.\\n\\nThe most commonly observed side effects are erythema, blistering, hyperpigmentation, and hypopigmentation.32 These side effects are typically observed only at the sites of treatment, they do not occur in all treatments, and are often well tolerated by patients.\\n\\nThe excimer laser has been demonstrated to be an effective treatment option for psoriasis variants and locations that may be more difficult to treat with topical modalities.\\nThe scalp is involved in up to 80% of patients with psoriasis, and the excimer laser can be useful in the treatment of scalp psoriasis.\\n\\nScalp psoriasis, especially when involving the hairline, can cause significant impairment in quality of life due to its visibility.\\n\\nTreatment of scalp psoriasis can be performed by moving the patients’ hair to expose the psoriatic plaques and then treating.\\n\\nThis is often useful for patients with limited scalp involvement.\\nTreatment of scalp psoriasis has been reported, but this modality presents challenges due to the difficulty of penetrating the laser through the hair.\\n\\nIt must be noted however that the forehead, hairline, and retroauricular areas are not entirely covered by hair, and often treatment with the excimer laser is a viable option.36 Wong et al present a case of a 68-year-old female patient with generalized plaque psoriasis, also involving the hairline of the scalp.\\n\\nThis scalp psoriasis was refractory to topical corticosteroids and acitretin.\\n\\nWith a past history of cancer, the patient opted for excimer laser treatment in conjunction with clobetasol prionate (0.05%) spray twice daily.\\n\\nAfter 5 weeks of therapy (receiving a total of nine excimer laser treatments and clobetasol spray twice daily) the patients’ hairline psoriasis was completely cleared.\\n\\nIt was reported that there were no side effects experienced, and the patients’ hairline remained clear during the entire duration of follow up, which was 3 months after therapy was completed.\\nIn a comparative study involving 13 patients with treatment refractory scalp psoriasis, the excimer laser was used for treatment in conjunction with a hair blow-dryer to help move the hair and deliver optimum laser penetration.\\n\\nHalf of the scalp received excimer laser treatment, whereas the other half of the scalp served as a control.\\n\\nOver 15 weeks the difference in mean modified PASI scores between the excimer laser-treated site and the control site was statistically significant (P<0.001) with the excimer treatment group showing substantial improvement and clearance.\\nIn another study by Morison et al 35 patients with scalp psoriasis who had failed prior intensive topical therapy were treated with the excimer laser.\\n\\nManual separation of the hair was used to provide access, and starting doses ranged from 300 to 1000 mJ depending on Fitzpatrick skin type.\\n\\nTreatment with the excimer laser was twice weekly, with a mean of 21 total treatments.\\n\\nAll patients improved, and 49% of the patients cleared completely.\\n\\nPhototoxicity in the form of erythema and blistering occurred in all patients and was noted to be more prominent around the nape of the neck and on the ears.\\nThe excimer laser can also be an excellent option for nail psoriasis, which can often be difficult to treat.\\n\\nIn a comparison study the excimer laser versus the pulsed dye laser (PDL) was evaluated for the treatment of nail psoriasis in 42 patients.\\n\\nThe right-hand nails were treated with excimer laser twice weekly for 12 weeks and the left-hand nails were treated with PDL once every 4 weeks for a total of 12 weeks.\\n\\nThe patients were assessed with the Nail Psoriasis Severity Index (NAPSI).\\n\\nAlthough the PDL laser performed better than the excimer laser for the treatment of nail psoriasis, 38% of hands treated with the excimer laser achieved NAPSI-50, an improvement of at least 50% in nail psoriasis.\\nPalmoplantar pustular psoriasis is another subtype of psoriasis that can often be difficult to treat.\\n\\nThere have been five prospective studies investigating the use of excimer laser in the treatment of palmoplantar pustular psoriasis.\\n\\nThe combined analysis of these studies showed that $64 of patients with palmoplantar pustular psoriasis experienced an improvement of at least 70% at the end of treatment.\\n\\nThis makes the excimer laser a viable treatment option for patients with palmoplantar pustular psoriasis.\\nAnother advantageous aspect of the excimer laser is that it can be used in combination with other treatment modalities, and these often have a synergistic effect.\\n\\nLevin et al utilized a novel combination of excimer laser and clobetasol propionate spray and calcitriol ointment for the treatment of moderate to severe generalized psoriasis.\\n\\nIn their 12-week study, patients received twice weekly treatment with the 308 nm excimer laser combined with clobetasol propionate twice daily for a month followed by calcitriol ointment twice daily for the subsequent month.\\n\\nOf the 30 patients enrolled 83% achieved PASI-75 or greater.\\n\\nThis demonstrated that the combination of excimer laser with alternating clobetasol spray and calcitriol ointment is a promising option and can easily be implemented in any treatment involving the excimer laser.\\nIn another 12-week study Levin et al treated moderate to severe psoriasis patients with twice weekly excimer treatments combined with twice daily clobetasol propionate followed by calcitriol ointment twice daily.\\n\\nOf the 21 patients who completed the protocol, 76% achieved at least PASI-75 by week 12.\\n\\nThis again supports the viability of using the excimer laser in combination treatment with other treatment modalities for psoriasis.\\nFurthermore, Dong et al demonstrated that combination therapy with the excimer laser and flumetasone ointment achieved greater improvements in PASI scoring than excimer laser monotherapy, with combination treatment patients achieving an average PASI improvement of 82.51 and excimer monotherapy patients achieving an average PASI improvement of 72.01.\\n\\nThis suggests that not only can the excimer laser be used in combination therapy, but it may even be more efficacious to utilize the laser in combination.\\nAlthough the excimer laser is often not a first-line treatment for psoriasis patients, it can be useful in combination or in the treatment of patients who are refractory to other treatments (Figure 4).\\n\\nIt has been demonstrated that the excimer laser can be an effective treatment option even for psoriasis that has failed treatment with biologic agents.\\n\\nMalakouti et al demonstrated the efficacy of the excimer laser in treating a 63-year-old Asian male with moderate to severe plaque psoriasis that had previously failed treatment with 28 weeks of ustekinumab therapy.\\n\\nThe patient was subsequently treated with high-dose excimer laser therapy and demonstrated a rapid improvement in PASI scoring.\\n\\nAdditionally, pretreatment and post-treatment biopsies were performed, and it was demonstrated that after treatment with high-dose excimer laser there was a 3-fold reduction in the number of live T cells found in the post-treatment biopsy.\\n\\nAlthough treatment with biologic agents can decrease the levels of inflammatory cytokines, the excimer laser has the ability to directly cause apoptosis of T cells and induce DNA damage in the antigen-presenting cells, which the authors attribute to the superior response observed from the excimer laser compared to ustekinumab.\\nIt has also been demonstrated that patients with moderate to severe plaque psoriasis who have been refractory to treatment with etanercept and phototherapy have been successfully treated with the excimer laser.\\n\\nPark et al report a patient who was treated with etanercept monotherapy for 12 weeks and etanercept combined with narrowband UVB phototherapy three times weekly for an additional 12 weeks that failed to achieve an optimal treatment response.\\n\\nThe patient was subsequently discontinued from all prior treatments and started on excimer laser treatments twice weekly.\\n\\nAfter 4 weeks of treatment with the excimer laser, the patient demonstrated a PASI-75 response, and after 7 weeks of treatment the patient achieved a PASI-95 response.\\nThe 308 nm excimer laser is an excellent option for the treatment of psoriasis and has been demonstrated to be effective in many different ways.\\n\\nWhen considering the excimer laser for the treatment of psoriasis, it has become apparent that appropriate patient selection must be made.\\n\\nBy the nature of the excimer laser, it is not as practical for monotherapy use in patients with severe plaque psoriasis, as the treatment field and practical application of the laser would make treatment a very time consuming and difficult process.\\n\\nHowever, when considering patients with mild to moderate psoriasis, it can be an extremely useful treatment.\\n\\nPatients who were assessed in the aforementioned studies were often patients with mild to moderate psoriasis.\\n\\nWhen treating patients with the excimer laser it is important to identify both the optimal patient candidate and the appropriate treatment protocol.\\nThere were a variety of treatment protocols that were identified for the treatment of psoriasis with the excimer laser.\\n\\nThe three main protocols that were identified were the MED protocol, the Induration protocol, and the MBD protocol.\\n\\nEach of these protocols make use of different features of the patients’ psoriasis to help determine the optimal dosimetry when utilizing the excimer laser.\\n\\nIt became clear in assessing these various protocols that the most efficacious protocol was the MBD protocol, in which patients were treated all the way up to a sub-blistering starting dose, and followed accordingly with dose modulation as needed.\\n\\nThis allowed researchers to achieve greater improvements in PASI score in a faster period of time.\\n\\nHowever, it is important to consider patient goals in treatment when identifying the appropriate treatment protocol.\\n\\nIf clearance in the fastest possible time is the goal, the MBD protocol would be the best option.\\n\\nHowever, if patients are more concerned with side effects of blistering, erythema, and tenderness, then the MED or Induration protocols may be more advantageous.\\n\\nThis is a discussion that should be had with patients and clinicians before treatment.\\n\\nAdditionally, there is currently no long-term safety data on the effects of the more aggressive MBD treatment with regard to side effects and risk for long-term skin damage with high-dose treatments.\\nOverall, the 308 nm excimer laser is a very well tolerated treatment option for patients with psoriasis.\\n\\nThe major side effects identified were erythema, tenderness, and blistering at the sites of treatment.\\n\\nThese side effects are dependent on the treatment protocol utilized, as certain protocols like the MBD protocol require a more aggressive dosimetry, which may induce further side effects.\\n\\nNonetheless, even with a sub-blistering dose, patients tolerated the treatment very well and in clinical experience even the blistering and erythema are often well tolerated compared to their untreated psoriasis.\\n\\nIt is important to consider the patient’s skin type, as this will further dictate the appropriate dosimetry as well as predict the degree of erythema and blistering that patients may experience.\\nThe excimer laser has also been demonstrated to be an excellent treatment option for difficult to treat psoriasis subtypes.\\n\\nThe excimer laser can be used to treat palmoplantar pustular psoriasis, as well as scalp and nail psoriasis, which are historically hard to treat subtypes.\\n\\nEven psoriasis that has been refractory to systemic treatments have been demonstrated to show improvement with the excimer laser.\\n\\nIt is possible that this is all related to the different mechanisms of action for the excimer laser compared to more systemic or biologic agents.\\n\\nWhere these systemic agents attempt to modulate the immune system and the immune pathway leading to the development of psoriasis, the excimer laser seeks to ultimately eliminate the T cells involved in the pathophysiology altogether, thus addressing all pathways involved at the cutaneous level with no reported systemic side effects.\\n\\nAlthough the excimer laser has been demonstrated to be a very effective treatment, further studies are required to identify its role in the modern dermatology armamentarium.\\n\\nWith the recent development of highly effective biologic and systemic agents, it may be difficult to justify the monotherapy of excimer laser alone in patients with moderate to severe psoriasis, but with the demonstrated efficacy in combination with topicals and the ability to improve symptoms of refractory psoriasis, the excimer laser should continue to remain an excellent treatment option.\\n\\nAlthough the excimer laser is not a first-line treatment, it remains an excellent treatment option for psoriasis patients and has been demonstrated to be an effective treatment with little to no side effects.\\n\\nThe excimer laser has been shown to be effective in difficult to treat psoriasis subtypes like palmoplantar pustular psoriasis, scalp, and nail psoriasis.\\n\\nIt has been shown to be an effective treatment option in combination therapy with topicals as well as a treatment option for psoriasis refractory to systemic treatment.\\n\\nAppropriate patient selection is important when considering excimer laser treatment for psoriasis.\\n\\nAlthough it may be difficult to justify excimer laser monotherapy especially with the advent of highly efficacious biologic agents, the excimer laser remains an excellent option for the treatment of psoriasis and should be considered an adjunct treatment option with topical or systemic agents.', metadata={'source': '/Untitled document.txt'})]"
            ]
          },
          "metadata": {},
          "execution_count": 183
        }
      ],
      "source": [
        "documents"
      ]
    },
    {
      "cell_type": "code",
      "execution_count": null,
      "metadata": {
        "id": "rZjjKyi1m_lA"
      },
      "outputs": [],
      "source": [
        "import textwrap\n",
        "\n",
        "def wrap_text_preserve_newlines(text, width=110):\n",
        "    # Split the input text into lines based on newline characters\n",
        "    lines = text.split('\\n')\n",
        "\n",
        "    # Wrap each line individually\n",
        "    wrapped_lines = [textwrap.fill(line, width=width) for line in lines]\n",
        "\n",
        "    # Join the wrapped lines back together using newline characters\n",
        "    wrapped_text = '\\n'.join(wrapped_lines)\n",
        "\n",
        "    return wrapped_text"
      ]
    },
    {
      "cell_type": "code",
      "execution_count": null,
      "metadata": {
        "colab": {
          "base_uri": "https://localhost:8080/"
        },
        "id": "mV04kCtEm_tF",
        "outputId": "0d25795a-d7c7-41f6-9a60-cf8d2031e7d3"
      },
      "outputs": [
        {
          "output_type": "stream",
          "name": "stdout",
          "text": [
            "page_content='\\ufeffExcimer laser for the treatment of psoriasis: safety, efficacy, and patient\n",
            "acceptability.\\n\\nThe 308 nm excimer laser is a widely used device throughout the field of dermatology for\n",
            "many diseases including psoriasis.\\n\\nAlthough the laser has demonstrated clinical efficacy, there is a lack\n",
            "of literature outlining the safety, efficacy, and patient acceptability of the excimer laser.\\nA literature\n",
            "search on PubMed was used with combinations of the terms “excimer”, “excimer laser”, “308 nm”, “psoriasis”,\n",
            "“protocol”, “safety”, “efficacy”, acceptability”, “side effects”, and “dose”.\\n\\nThe search results were\n",
            "included if they contained information pertaining to excimer laser and psoriasis treatment and description of\n",
            "the safety, efficacy, and patient acceptability of the treatment.\\nThe 308 nm excimer laser is generally safe\n",
            "and well tolerated with minimal side effects including erythema, blistering, and pigmentary changes.\\n\\nIt has\n",
            "a range of efficacies depending on the protocol used with several different treatment protocols, including the\n",
            "induration protocol, the minimal erythema dose protocol, and the newer minimal blistering dose\n",
            "protocol.\\nAlthough the excimer laser is not a first-line treatment, it remains an excellent treatment option\n",
            "for psoriasis patients and has been demonstrated to be an effective treatment with little to no side\n",
            "effects.The 308 nm excimer laser is a widely used device throughout the field of dermatology for many\n",
            "diseases, including psoriasis, vitiligo, hypopigmented disorders, alopecia areata, atopic dermatitis, and in\n",
            "many other dermatologic diseases such as cutaneous T-cell lymphoma, other lymphoproliferative disorders,\n",
            "granuloma annulare, Langerhans cell histiocytosis, lichen planus, and localized scleroderma.1,2 The term\n",
            "excimer is derived from “excited dimer,” which describes the mixture of the noble gas xenon and the halogen\n",
            "chloride gas (XeCl) that is utilized.\\n\\nThe dissociation of these excited dimers produces a 308 nm\n",
            "ultraviolet (UV) monochromatic coherent wavelength, which lies within the UVB spectrum.1,3 Although the\n",
            "excimer laser can be used in the treatment of many dermatologic conditions, this study will focus on the\n",
            "treatment of psoriasis.\\nPsoriasis is a chronic, inflammatory disease that primarily manifests with cutaneous\n",
            "findings and affects ~3% of the American population.4 The current understanding of the pathogenesis and\n",
            "pathophysiology of psoriasis is continuing to evolve, but the majority of knowledge surrounds the most\n",
            "classical variant, psoriasis vulgaris.\\n\\nPsoriasis vulgaris compromises more than 80% of cases, usually\n",
            "present with raised, well-demarcated, erythematous oval plaques with adherent silvery scale.\\n\\nIt is a\n",
            "complex immune-mediated disease propagated by abnormal interactions between T lymphocytes, dendritic cells,\n",
            "keratinocytes, neutrophils, and proinflammatory cytokines.\\nThe initiation of psoriasis begins with an\n",
            "amalgamation between environment and genetic factors.\\n\\nThe innate immune system provides an early, preformed\n",
            "response as a mechanism against harm to the host and has been implicated in the development of\n",
            "psoriasis.\\n\\nCytokines produced from innate immune cells activate myeloid dendritic cells, which in turn\n",
            "present antigens and secrete mediators leading to Th17 and Th1 differentiation.\\n\\nThese T cells secrete\n",
            "mediators that activate keratinocytes and induce production of antimicrobial peptides, proinflammatory\n",
            "peptides, and chemokines that create a positive feedback loop and maintain an active psoriatic disease\n",
            "cycle.5,6 These psoriatic lesions arise from alterations in the skin consisting of decreased keratinocyte\n",
            "maturation, increased keratinocyte proliferation, and vascular changes consistent with proliferation and\n",
            "dilatation.4 Histologically, acanthosis, parakeratosis, elongated rete ridges, and a mixed cellular infiltrate\n",
            "characterize psoriasis.\\n\\nMore specifically, inflammatory cells such as dendritic cells, macrophages, and\n",
            "CD3+ T cells and CD8+ T cells are detected in the dermis, whereas neutrophils and some CD3+ T cells and CD8+ T\n",
            "cells are detected in the epidermis.5 The aforementioned synopsis of the pathogenesis and pathophysiology of\n",
            "psoriasis will be crucial for the understanding of the mechanism of action of the excimer laser.\\nThe\n",
            "mechanism of action of the excimer laser, similar to the action of UVB light, induces apoptosis in\n",
            "keratinocytes and T lymphocytes.\\n\\nThe absorption of 308 nm wavelength induces DNA breakage, upregulation of\n",
            "the tumor suppressor gene p53, and subsequent reduction of proto-oncogene Bcl-2, leading to cell cycle arrest\n",
            "in keratinocytes and T lymphocytes.1 This breaks the positive feedback loop and halts the psoriatic disease\n",
            "cycle created by the activated T lymphocytes.\\n\\nFurthermore, Kagen et al demonstrated that very high doses of\n",
            "excimer laser treatment in psoriatic lesions reduced the numbers of pathogenic memory/effector T cells\n",
            "infiltrating lesional epidermis and dermis.\\nWhile the importance of the excimer laser in the treatment of\n",
            "psoriasis will be discussed, it is interesting to note the origins of the excimer laser.\\n\\nThe excimer laser\n",
            "was invented in 1970 by Nikolai Basov et al by using a xenon dimer (Xe2).\\n\\nThis Xe2 excimer laser emitted at\n",
            "172 nm, and with this a new class of lasers were invented.8 The first applications of the excimer lasers were\n",
            "within various research laboratories, including Avco Everett Research Laboratory, Sandia Laboratories, the\n",
            "Northrop Research and Technology Center, and the United States Government’s Naval Research Laboratory.9\\nThe\n",
            "initial application of the excimer laser in the medical field emerged in 1983 from the collaboration of\n",
            "Rangaswamy Srinivasan and the ophthalmic surgeon Stephen Trokel.10,11 This collaboration led to the\n",
            "development of LASIK surgery procedure, which has been performed over 28 million times worldwide as of\n",
            "2009.\\n\\nThe excimer laser has been adopted by other medical disciplines such as cardiology, dentistry, and\n",
            "orthopedics.12–14\\nBonis et al were the first to study the use of the 308 nm XeCl excimer laser in the field\n",
            "of dermatology in 1997.\\n\\nThey investigated the use of excimer laser for treatment of 10 patients with\n",
            "chronic plaque psoriasis and concluded that it was an effective treatment option.15 Since its initial\n",
            "introduction to dermatology, use of the excimer laser as a treatment option has expanded to applications in\n",
            "many dermatologic diseases.\\n\\nPsoriasis treatment with excimer laser has proven to be effective even in early\n",
            "studies with Feldman et al demonstrating 84% of patients achieving a 75% or better improvement after 10 or\n",
            "fewer treatments.\\n\\nExcimer laser is currently indicated for adult and pediatric patients with mild,\n",
            "moderate, or severe psoriasis with <10% body surface area involvement and the American Academy of Dermatology\n",
            "states the level of evidence is II and the strength of recommendation is B.\\n\\nA literature search on PubMed\n",
            "was used with combinations of the terms “excimer”, “excimer laser”, “308 nm”, “psoriasis”, “protocol”,\n",
            "“safety”, “efficacy”, acceptability”, “side effects”, and “dose”.\\n\\nThe search results were included if they\n",
            "contained information pertaining to excimer laser and psoriasis treatment and description of the safety,\n",
            "efficacy, and patient acceptability of the treatment.\\nIn this study, the main relevant literature pertaining\n",
            "to the excimer laser for the treatment of psoriasis will be reviewed.\\nInitially used in the treatment of\n",
            "refractory moderate plaque psoriasis, the 308 nm excimer laser uses UVB light to induce apoptosis, break DNA\n",
            "strands and, ultimately, decrease T-lymphocyte proliferation.\\n\\nThe UVB emitted from the laser helps regulate\n",
            "the p53 tumor suppressor pathway inducing cell cycle arrest and deterring inflammatory processes.15 As a\n",
            "result, repigmentation of the treated areas is thought to occur due to elevated levels of peptide ET-1, as\n",
            "well as melanocyte re-migration and proliferation.1 With this knowledge, the utilization of the excimer laser\n",
            "has been expanded to include a host of various cutaneous diseases.\\n\\nIn general, four main categories of\n",
            "cutaneous diseases can be currently treated with the 308 nm excimer laser: psoriatic lesions—which will be the\n",
            "focus of this review—apigmented and hypopigmented lesions, pruritic disorders, and follicular diseases.\\nWhen\n",
            "compared to the narrow band UVB laser, the 308 nm laser has an increased induction rate of T-cell apoptosis.1\n",
            "Compared with traditional narrow band UV therapy, the excimer laser requires on average less number of\n",
            "treatment sessions and thus a smaller amount of cumulative UVB exposure.\\n\\nThis aspect potentially reduces\n",
            "the patient’s skin cancer risk and can feasibly improve patient compliance.1 Furthermore, the excimer laser\n",
            "has the ability to target difficult to reach areas and administer site-specific dosing.16 Also, it can operate\n",
            "with the ability to change the energy level (in millijoules) delivered during treatment.\\n\\nFew adverse\n",
            "reactions have been reported, and they are consistent with adverse reactions associated with other forms of\n",
            "phototherapy including erythema, blistering, hyperpigmentation, and hypopigmentation.\\nThe 308 nm excimer\n",
            "laser was initially studied for the treatment of moderate plaque psoriasis by Bonis et al in 1997.\\n\\nThis\n",
            "study suggests that nine sessions on average equating to a mean cumulative dose of 4.45 J UVB are adequate for\n",
            "complete plaque resolution.\\n\\nThis dose was found to be lower than the dose reached with narrow band UVB\n",
            "treatment.15 Kemeny and colleagues further investigated the laser and found that patients treated at this dose\n",
            "remain lesion free for ~2 years.17 These initial studies were of smaller scale (n = 10).\\n\\nIn the recent\n",
            "past, several groups have focused on larger scale studies that demonstrate the safety and use of the laser for\n",
            "individuals with mild to moderate localized plaque psoriasis.\\n\\nThe laser is particularly useful if these\n",
            "individuals have a suboptimal response or contraindications to topical or intralesional treatments.\\n\\nThese\n",
            "studies also confirm that an average of 10 treatments should clear the plaques.\\nIn addition to plaque\n",
            "psoriasis, the 308 nm laser is useful in the treatment of intertriginous psoriasis as demonstrated by a few\n",
            "case reports.23,24 Recently, split scalp studies have shown beneficial results of the laser in treating scalp\n",
            "psoriasis.\\n\\nResolution in these patients generally requires more treatments than non-intertriginous\n",
            "psoriatic lesions.\\n\\nFor example, one study demonstrated improvement with 21 sessions.\\nAdjunctive topical\n",
            "therapies can also be used to augment the laser’s results.\\n\\nSeveral topicals have been studied including\n",
            "dithranol ointment, flumetasone/salicylic acid ointment, calcipotriol ointment, clobetasol spray, and\n",
            "calcitriol ointment.27–30 In one study by Rogalski et al, addition of dithranol ointment to the excimer laser\n",
            "protocol resulted in a reduced Psoriasis Area and Severity Index (PASI) score.27 Furthermore, use of\n",
            "flumetasone/salicylic acid ointment resulted in a lower cumulative UVB dose, as well as plaque\n",
            "improvement.\\n\\nFinally, use of clobetasol spray and ointment in conjunction with the excimer laser resulted\n",
            "in a safer side effect profile, as well as improved clearance of lesions in the long term.30\\nThe 308 nm can\n",
            "also be used in the treatment of mild to moderate plaque psoriasis in children.\\n\\nA recent study by Pahlajani\n",
            "et al compares the safety and efficacy of the excimer laser for the treatment of mild to moderate plaque\n",
            "localized psoriasis in adults and children.\\n\\nOn average, 12.5 (SD 2.64) treatments were needed for\n",
            "resolution in children, while 9.7 (SD 2.53) sessions were needed for adults.\\n\\nCommon side effects associated\n",
            "with the laser were consistent with side effects seen in adult patients and included: hyperpigmentation,\n",
            "blistering, erosions, pain, and koebnerization.31 In general, side effects were more typical in the adult\n",
            "population with the most common one being erosions.\\n\\nHyperpigmentation was the most common side effect in\n",
            "the pediatric group.\\n\\nFuture studies pertaining to the safety of the 308 nm laser in the treatment of\n",
            "psoriasis will presumably include continued modification of the treatment protocol to reduce the number of\n",
            "treatments needed for plaque resolution, while still resulting in longer periods of plaque remission.\\nIn\n",
            "addition to psoriasis, a vast number of other cutaneous diseases can also be treated with the excimer\n",
            "laser.\\n\\nAs previously postulated, the 308 nm excimer laser plays a role in melanocyte re-migration and thus\n",
            "has been shown to be beneficial in the treatment of vitiligo and hypopigmented disorders.\\n\\nVarious pruritic\n",
            "lesions treated with the 308 nm excimer laser have also demonstrated positive results.\\n\\nThe stigmata of\n",
            "atopic dermatitis, including: erythema, infiltration, lichenification, excoriations and pruritus can severely\n",
            "impact a patient’s quality of life.\\n\\nOther conditions like lymphomatoid papulosis, granuloma annulare,\n",
            "Langerhans cell histiocytosis lichen planus, lichen planopilaris and localized scleroderma can also be treated\n",
            "with the excimer laser.\\n\\nComplete remission of cutaneous T-cell lymphoma has been demonstrated with biweekly\n",
            "excimer treatments.\\n\\nFinally, alopecia areata can be treated with the 308nm excimer laser.\\n\\nHowever, the\n",
            "laser has not shown improvement in alopecia universalis, alopecia totalis, or patches on the\n",
            "extremities.\\nFirst described in 1997 by Bonis et al, the 308 nm excimer laser has become a major tool in the\n",
            "armamentarium of the dermatologist in treating various types of cutaneous diseases.\\n\\nOver the years the\n",
            "excimer laser has evolved in its clinical usage, and appropriately, so have the treatment protocols that are\n",
            "used in clinical practice.\\n\\nSeveral different treatment protocols have been developed and optimized to more\n",
            "effectively treat psoriatic lesions and to achieve greater improvements in the PASI score with fewer\n",
            "treatments.\\n\\nThe three main protocols used for the treatment of psoriasis include: the minimal erythema dose\n",
            "(MED) protocol, the induration protocol, and the newer minimal blistering dose (MBD) protocol.\\nThe MED is\n",
            "established by first testing healthy, non-psoriatic skin and determining the minimal dose (millijoules) that\n",
            "causes a well-demarcated, minimally erythematous pink macule.33 Typically, with this method, the patient the\n",
            "will require two initial visits to calibrate the MED, with a total of 12 treatments sessions thereafter to\n",
            "reach PASI-75.18 Information pertaining to exact treatment dosages in terms of millijoules is limited, as\n",
            "studies only report cumulative doses at the end of the patient treatment course.\\n\\nOne study by Asawanonda et\n",
            "al extrapolates dosing in millijoules from a mean MED of 203.3 mJ to correlate with ~3.248 mJ.\\nThe\n",
            "induration-based protocol is another method for determining treatment dosing.\\n\\nTaneja and colleagues\n",
            "innovated this method whereby an initial dose is based on the induration component of the modified PASI and\n",
            "subsequent doses are based on the change in induration.\\n\\nCompared to the MED protocol, the induration method\n",
            "allows for clinicians to modify the dose as plaques begin to change in response to treatment.\\n\\nOn average,\n",
            "plaques treated with this protocol achieved PASI-75 after 10 treatments.\\nOne report published by Debbaneh et\n",
            "al describes using a minimal blister dose (MBD) for excimer laser treatment.\\n\\nThis protocol identifies the\n",
            "minimum dose at which the patient will blister, and then subsequent treatments are administered at doses less\n",
            "than the MBD.\\n\\nIn theory, this achieves the maximum possible dose that a plaque can sustain without\n",
            "blistering the skin.\\n\\nFor example, in the case aforementioned, the patient was tested with doses ranging\n",
            "from 300 to 1700 mJ.\\n\\nThe MBD was established at 1500 mJ, and a sub-blistering starting dose was established\n",
            "at 1300 mJ.\\n\\nThe patient was then treated for 12 days following the initial treatment at a sub-blistering\n",
            "does of 800 mJ.\\n\\nAt his 1-week follow up, the patient was noted to have achieved PASI-75.\\nAlthough there\n",
            "have been no studies formally evaluating patient acceptability of the excimer laser treatment, the previously\n",
            "mentioned safety profile for excimer laser treatment of psoriasis makes it a generally well-tolerated\n",
            "treatment.\\n\\nThe most commonly observed side effects are erythema, blistering, hyperpigmentation, and\n",
            "hypopigmentation.32 These side effects are typically observed only at the sites of treatment, they do not\n",
            "occur in all treatments, and are often well tolerated by patients.\\n\\nThe excimer laser has been demonstrated\n",
            "to be an effective treatment option for psoriasis variants and locations that may be more difficult to treat\n",
            "with topical modalities.\\nThe scalp is involved in up to 80% of patients with psoriasis, and the excimer laser\n",
            "can be useful in the treatment of scalp psoriasis.\\n\\nScalp psoriasis, especially when involving the hairline,\n",
            "can cause significant impairment in quality of life due to its visibility.\\n\\nTreatment of scalp psoriasis can\n",
            "be performed by moving the patients’ hair to expose the psoriatic plaques and then treating.\\n\\nThis is often\n",
            "useful for patients with limited scalp involvement.\\nTreatment of scalp psoriasis has been reported, but this\n",
            "modality presents challenges due to the difficulty of penetrating the laser through the hair.\\n\\nIt must be\n",
            "noted however that the forehead, hairline, and retroauricular areas are not entirely covered by hair, and\n",
            "often treatment with the excimer laser is a viable option.36 Wong et al present a case of a 68-year-old female\n",
            "patient with generalized plaque psoriasis, also involving the hairline of the scalp.\\n\\nThis scalp psoriasis\n",
            "was refractory to topical corticosteroids and acitretin.\\n\\nWith a past history of cancer, the patient opted\n",
            "for excimer laser treatment in conjunction with clobetasol prionate (0.05%) spray twice daily.\\n\\nAfter 5\n",
            "weeks of therapy (receiving a total of nine excimer laser treatments and clobetasol spray twice daily) the\n",
            "patients’ hairline psoriasis was completely cleared.\\n\\nIt was reported that there were no side effects\n",
            "experienced, and the patients’ hairline remained clear during the entire duration of follow up, which was 3\n",
            "months after therapy was completed.\\nIn a comparative study involving 13 patients with treatment refractory\n",
            "scalp psoriasis, the excimer laser was used for treatment in conjunction with a hair blow-dryer to help move\n",
            "the hair and deliver optimum laser penetration.\\n\\nHalf of the scalp received excimer laser treatment, whereas\n",
            "the other half of the scalp served as a control.\\n\\nOver 15 weeks the difference in mean modified PASI scores\n",
            "between the excimer laser-treated site and the control site was statistically significant (P<0.001) with the\n",
            "excimer treatment group showing substantial improvement and clearance.\\nIn another study by Morison et al 35\n",
            "patients with scalp psoriasis who had failed prior intensive topical therapy were treated with the excimer\n",
            "laser.\\n\\nManual separation of the hair was used to provide access, and starting doses ranged from 300 to 1000\n",
            "mJ depending on Fitzpatrick skin type.\\n\\nTreatment with the excimer laser was twice weekly, with a mean of 21\n",
            "total treatments.\\n\\nAll patients improved, and 49% of the patients cleared completely.\\n\\nPhototoxicity in\n",
            "the form of erythema and blistering occurred in all patients and was noted to be more prominent around the\n",
            "nape of the neck and on the ears.\\nThe excimer laser can also be an excellent option for nail psoriasis, which\n",
            "can often be difficult to treat.\\n\\nIn a comparison study the excimer laser versus the pulsed dye laser (PDL)\n",
            "was evaluated for the treatment of nail psoriasis in 42 patients.\\n\\nThe right-hand nails were treated with\n",
            "excimer laser twice weekly for 12 weeks and the left-hand nails were treated with PDL once every 4 weeks for a\n",
            "total of 12 weeks.\\n\\nThe patients were assessed with the Nail Psoriasis Severity Index (NAPSI).\\n\\nAlthough\n",
            "the PDL laser performed better than the excimer laser for the treatment of nail psoriasis, 38% of hands\n",
            "treated with the excimer laser achieved NAPSI-50, an improvement of at least 50% in nail\n",
            "psoriasis.\\nPalmoplantar pustular psoriasis is another subtype of psoriasis that can often be difficult to\n",
            "treat.\\n\\nThere have been five prospective studies investigating the use of excimer laser in the treatment of\n",
            "palmoplantar pustular psoriasis.\\n\\nThe combined analysis of these studies showed that $64 of patients with\n",
            "palmoplantar pustular psoriasis experienced an improvement of at least 70% at the end of treatment.\\n\\nThis\n",
            "makes the excimer laser a viable treatment option for patients with palmoplantar pustular psoriasis.\\nAnother\n",
            "advantageous aspect of the excimer laser is that it can be used in combination with other treatment\n",
            "modalities, and these often have a synergistic effect.\\n\\nLevin et al utilized a novel combination of excimer\n",
            "laser and clobetasol propionate spray and calcitriol ointment for the treatment of moderate to severe\n",
            "generalized psoriasis.\\n\\nIn their 12-week study, patients received twice weekly treatment with the 308 nm\n",
            "excimer laser combined with clobetasol propionate twice daily for a month followed by calcitriol ointment\n",
            "twice daily for the subsequent month.\\n\\nOf the 30 patients enrolled 83% achieved PASI-75 or greater.\\n\\nThis\n",
            "demonstrated that the combination of excimer laser with alternating clobetasol spray and calcitriol ointment\n",
            "is a promising option and can easily be implemented in any treatment involving the excimer laser.\\nIn another\n",
            "12-week study Levin et al treated moderate to severe psoriasis patients with twice weekly excimer treatments\n",
            "combined with twice daily clobetasol propionate followed by calcitriol ointment twice daily.\\n\\nOf the 21\n",
            "patients who completed the protocol, 76% achieved at least PASI-75 by week 12.\\n\\nThis again supports the\n",
            "viability of using the excimer laser in combination treatment with other treatment modalities for\n",
            "psoriasis.\\nFurthermore, Dong et al demonstrated that combination therapy with the excimer laser and\n",
            "flumetasone ointment achieved greater improvements in PASI scoring than excimer laser monotherapy, with\n",
            "combination treatment patients achieving an average PASI improvement of 82.51 and excimer monotherapy patients\n",
            "achieving an average PASI improvement of 72.01.\\n\\nThis suggests that not only can the excimer laser be used\n",
            "in combination therapy, but it may even be more efficacious to utilize the laser in combination.\\nAlthough the\n",
            "excimer laser is often not a first-line treatment for psoriasis patients, it can be useful in combination or\n",
            "in the treatment of patients who are refractory to other treatments (Figure 4).\\n\\nIt has been demonstrated\n",
            "that the excimer laser can be an effective treatment option even for psoriasis that has failed treatment with\n",
            "biologic agents.\\n\\nMalakouti et al demonstrated the efficacy of the excimer laser in treating a 63-year-old\n",
            "Asian male with moderate to severe plaque psoriasis that had previously failed treatment with 28 weeks of\n",
            "ustekinumab therapy.\\n\\nThe patient was subsequently treated with high-dose excimer laser therapy and\n",
            "demonstrated a rapid improvement in PASI scoring.\\n\\nAdditionally, pretreatment and post-treatment biopsies\n",
            "were performed, and it was demonstrated that after treatment with high-dose excimer laser there was a 3-fold\n",
            "reduction in the number of live T cells found in the post-treatment biopsy.\\n\\nAlthough treatment with\n",
            "biologic agents can decrease the levels of inflammatory cytokines, the excimer laser has the ability to\n",
            "directly cause apoptosis of T cells and induce DNA damage in the antigen-presenting cells, which the authors\n",
            "attribute to the superior response observed from the excimer laser compared to ustekinumab.\\nIt has also been\n",
            "demonstrated that patients with moderate to severe plaque psoriasis who have been refractory to treatment with\n",
            "etanercept and phototherapy have been successfully treated with the excimer laser.\\n\\nPark et al report a\n",
            "patient who was treated with etanercept monotherapy for 12 weeks and etanercept combined with narrowband UVB\n",
            "phototherapy three times weekly for an additional 12 weeks that failed to achieve an optimal treatment\n",
            "response.\\n\\nThe patient was subsequently discontinued from all prior treatments and started on excimer laser\n",
            "treatments twice weekly.\\n\\nAfter 4 weeks of treatment with the excimer laser, the patient demonstrated a\n",
            "PASI-75 response, and after 7 weeks of treatment the patient achieved a PASI-95 response.\\nThe 308 nm excimer\n",
            "laser is an excellent option for the treatment of psoriasis and has been demonstrated to be effective in many\n",
            "different ways.\\n\\nWhen considering the excimer laser for the treatment of psoriasis, it has become apparent\n",
            "that appropriate patient selection must be made.\\n\\nBy the nature of the excimer laser, it is not as practical\n",
            "for monotherapy use in patients with severe plaque psoriasis, as the treatment field and practical application\n",
            "of the laser would make treatment a very time consuming and difficult process.\\n\\nHowever, when considering\n",
            "patients with mild to moderate psoriasis, it can be an extremely useful treatment.\\n\\nPatients who were\n",
            "assessed in the aforementioned studies were often patients with mild to moderate psoriasis.\\n\\nWhen treating\n",
            "patients with the excimer laser it is important to identify both the optimal patient candidate and the\n",
            "appropriate treatment protocol.\\nThere were a variety of treatment protocols that were identified for the\n",
            "treatment of psoriasis with the excimer laser.\\n\\nThe three main protocols that were identified were the MED\n",
            "protocol, the Induration protocol, and the MBD protocol.\\n\\nEach of these protocols make use of different\n",
            "features of the patients’ psoriasis to help determine the optimal dosimetry when utilizing the excimer\n",
            "laser.\\n\\nIt became clear in assessing these various protocols that the most efficacious protocol was the MBD\n",
            "protocol, in which patients were treated all the way up to a sub-blistering starting dose, and followed\n",
            "accordingly with dose modulation as needed.\\n\\nThis allowed researchers to achieve greater improvements in\n",
            "PASI score in a faster period of time.\\n\\nHowever, it is important to consider patient goals in treatment when\n",
            "identifying the appropriate treatment protocol.\\n\\nIf clearance in the fastest possible time is the goal, the\n",
            "MBD protocol would be the best option.\\n\\nHowever, if patients are more concerned with side effects of\n",
            "blistering, erythema, and tenderness, then the MED or Induration protocols may be more advantageous.\\n\\nThis\n",
            "is a discussion that should be had with patients and clinicians before treatment.\\n\\nAdditionally, there is\n",
            "currently no long-term safety data on the effects of the more aggressive MBD treatment with regard to side\n",
            "effects and risk for long-term skin damage with high-dose treatments.\\nOverall, the 308 nm excimer laser is a\n",
            "very well tolerated treatment option for patients with psoriasis.\\n\\nThe major side effects identified were\n",
            "erythema, tenderness, and blistering at the sites of treatment.\\n\\nThese side effects are dependent on the\n",
            "treatment protocol utilized, as certain protocols like the MBD protocol require a more aggressive dosimetry,\n",
            "which may induce further side effects.\\n\\nNonetheless, even with a sub-blistering dose, patients tolerated the\n",
            "treatment very well and in clinical experience even the blistering and erythema are often well tolerated\n",
            "compared to their untreated psoriasis.\\n\\nIt is important to consider the patient’s skin type, as this will\n",
            "further dictate the appropriate dosimetry as well as predict the degree of erythema and blistering that\n",
            "patients may experience.\\nThe excimer laser has also been demonstrated to be an excellent treatment option for\n",
            "difficult to treat psoriasis subtypes.\\n\\nThe excimer laser can be used to treat palmoplantar pustular\n",
            "psoriasis, as well as scalp and nail psoriasis, which are historically hard to treat subtypes.\\n\\nEven\n",
            "psoriasis that has been refractory to systemic treatments have been demonstrated to show improvement with the\n",
            "excimer laser.\\n\\nIt is possible that this is all related to the different mechanisms of action for the\n",
            "excimer laser compared to more systemic or biologic agents.\\n\\nWhere these systemic agents attempt to modulate\n",
            "the immune system and the immune pathway leading to the development of psoriasis, the excimer laser seeks to\n",
            "ultimately eliminate the T cells involved in the pathophysiology altogether, thus addressing all pathways\n",
            "involved at the cutaneous level with no reported systemic side effects.\\n\\nAlthough the excimer laser has been\n",
            "demonstrated to be a very effective treatment, further studies are required to identify its role in the modern\n",
            "dermatology armamentarium.\\n\\nWith the recent development of highly effective biologic and systemic agents, it\n",
            "may be difficult to justify the monotherapy of excimer laser alone in patients with moderate to severe\n",
            "psoriasis, but with the demonstrated efficacy in combination with topicals and the ability to improve symptoms\n",
            "of refractory psoriasis, the excimer laser should continue to remain an excellent treatment\n",
            "option.\\n\\nAlthough the excimer laser is not a first-line treatment, it remains an excellent treatment option\n",
            "for psoriasis patients and has been demonstrated to be an effective treatment with little to no side\n",
            "effects.\\n\\nThe excimer laser has been shown to be effective in difficult to treat psoriasis subtypes like\n",
            "palmoplantar pustular psoriasis, scalp, and nail psoriasis.\\n\\nIt has been shown to be an effective treatment\n",
            "option in combination therapy with topicals as well as a treatment option for psoriasis refractory to systemic\n",
            "treatment.\\n\\nAppropriate patient selection is important when considering excimer laser treatment for\n",
            "psoriasis.\\n\\nAlthough it may be difficult to justify excimer laser monotherapy especially with the advent of\n",
            "highly efficacious biologic agents, the excimer laser remains an excellent option for the treatment of\n",
            "psoriasis and should be considered an adjunct treatment option with topical or systemic agents.'\n",
            "metadata={'source': '/Untitled document.txt'}\n"
          ]
        }
      ],
      "source": [
        "print(wrap_text_preserve_newlines(str(documents[0])))"
      ]
    },
    {
      "cell_type": "code",
      "execution_count": null,
      "metadata": {
        "id": "_qXNpk8vXlys"
      },
      "outputs": [],
      "source": [
        "# Text Splitter\n",
        "from langchain.text_splitter import CharacterTextSplitter\n",
        "text_splitter = CharacterTextSplitter(chunk_size=1000, chunk_overlap=0)\n",
        "docs = text_splitter.split_documents(documents)"
      ]
    },
    {
      "cell_type": "code",
      "source": [
        "from langchain.text_splitter import CharacterTextSplitter\n",
        "text_splitter = CharacterTextSplitter(        \n",
        "    separator = \"\\n\\n\",\n",
        "    chunk_size = 1000,\n",
        "    chunk_overlap  = 200,\n",
        "    length_function = len,\n",
        ")"
      ],
      "metadata": {
        "id": "QLo0HIn3TqY3"
      },
      "execution_count": null,
      "outputs": []
    },
    {
      "cell_type": "code",
      "execution_count": null,
      "metadata": {
        "colab": {
          "base_uri": "https://localhost:8080/"
        },
        "id": "gEUp4OtxnuXL",
        "outputId": "50631b94-43f7-49ca-bb3f-f2587dcc2b96"
      },
      "outputs": [
        {
          "output_type": "execute_result",
          "data": {
            "text/plain": [
              "35"
            ]
          },
          "metadata": {},
          "execution_count": 188
        }
      ],
      "source": [
        "len(docs)"
      ]
    },
    {
      "cell_type": "code",
      "execution_count": null,
      "metadata": {
        "colab": {
          "base_uri": "https://localhost:8080/"
        },
        "id": "z_HUKypknucr",
        "outputId": "c8475bd6-6a22-4004-94e6-992dfcc46352"
      },
      "outputs": [
        {
          "output_type": "execute_result",
          "data": {
            "text/plain": [
              "Document(page_content='\\ufeffExcimer laser for the treatment of psoriasis: safety, efficacy, and patient acceptability.\\n\\nThe 308 nm excimer laser is a widely used device throughout the field of dermatology for many diseases including psoriasis.\\n\\nAlthough the laser has demonstrated clinical efficacy, there is a lack of literature outlining the safety, efficacy, and patient acceptability of the excimer laser.\\nA literature search on PubMed was used with combinations of the terms “excimer”, “excimer laser”, “308 nm”, “psoriasis”, “protocol”, “safety”, “efficacy”, acceptability”, “side effects”, and “dose”.\\n\\nThe search results were included if they contained information pertaining to excimer laser and psoriasis treatment and description of the safety, efficacy, and patient acceptability of the treatment.\\nThe 308 nm excimer laser is generally safe and well tolerated with minimal side effects including erythema, blistering, and pigmentary changes.', metadata={'source': '/Untitled document.txt'})"
            ]
          },
          "metadata": {},
          "execution_count": 189
        }
      ],
      "source": [
        "docs[0]"
      ]
    },
    {
      "cell_type": "markdown",
      "metadata": {
        "id": "G6HWzhWUaRIb"
      },
      "source": [
        "### Embeddings"
      ]
    },
    {
      "cell_type": "code",
      "execution_count": null,
      "metadata": {
        "id": "uctYbK6YXmxI"
      },
      "outputs": [],
      "source": [
        "# Embeddings\n",
        "from langchain.embeddings import HuggingFaceEmbeddings\n",
        "\n",
        "embeddings = HuggingFaceEmbeddings()"
      ]
    },
    {
      "cell_type": "code",
      "execution_count": null,
      "metadata": {
        "colab": {
          "base_uri": "https://localhost:8080/"
        },
        "id": "_wS3_6gbXqvE",
        "outputId": "b8194e30-5923-40f7-c512-0260292b5e6e"
      },
      "outputs": [
        {
          "output_type": "stream",
          "name": "stdout",
          "text": [
            "Looking in indexes: https://pypi.org/simple, https://us-python.pkg.dev/colab-wheels/public/simple/\n",
            "Requirement already satisfied: faiss-cpu in /usr/local/lib/python3.10/dist-packages (1.7.4)\n"
          ]
        }
      ],
      "source": [
        "!pip install faiss-cpu"
      ]
    },
    {
      "cell_type": "code",
      "execution_count": null,
      "metadata": {
        "id": "TTg8T2tJXvTI"
      },
      "outputs": [],
      "source": [
        "# Vectorstore: https://python.langchain.com/en/latest/modules/indexes/vectorstores.html\n",
        "from langchain.vectorstores import FAISS\n",
        "\n",
        "db = FAISS.from_documents(docs, embeddings)"
      ]
    },
    {
      "cell_type": "code",
      "execution_count": null,
      "metadata": {
        "id": "IYQOej1MpiH2"
      },
      "outputs": [],
      "source": [
        "query = \"Cost of using excimer laser therapy?\"\n",
        "\n",
        "\"\"\"\n",
        "Queries \n",
        "query = \"What is the mechanism of action of the excimer laser in treating psoriasis?\"\n",
        "query = \"What are the potential benefits of using the excimer laser for psoriasis treatment?\"\n",
        "query = \"Is excimer laser therapy safe and what are the side effects?\"\n",
        "\n",
        "query = \"Cost of using excimer laser therapy?\"\n",
        "\"\"\"\n",
        "docs = db.similarity_search(query)"
      ]
    },
    {
      "cell_type": "code",
      "execution_count": null,
      "metadata": {
        "colab": {
          "base_uri": "https://localhost:8080/"
        },
        "id": "v7li6KoVpiQh",
        "outputId": "e11131bd-737f-4b7b-a77e-2d51c5a98d8b"
      },
      "outputs": [
        {
          "output_type": "stream",
          "name": "stdout",
          "text": [
            "﻿Excimer laser for the treatment of psoriasis: safety, efficacy, and patient acceptability.\n",
            "\n",
            "The 308 nm excimer laser is a widely used device throughout the field of dermatology for many diseases\n",
            "including psoriasis.\n",
            "\n",
            "Although the laser has demonstrated clinical efficacy, there is a lack of literature outlining the safety,\n",
            "efficacy, and patient acceptability of the excimer laser.\n",
            "A literature search on PubMed was used with combinations of the terms “excimer”, “excimer laser”, “308 nm”,\n",
            "“psoriasis”, “protocol”, “safety”, “efficacy”, acceptability”, “side effects”, and “dose”.\n",
            "\n",
            "The search results were included if they contained information pertaining to excimer laser and psoriasis\n",
            "treatment and description of the safety, efficacy, and patient acceptability of the treatment.\n",
            "The 308 nm excimer laser is generally safe and well tolerated with minimal side effects including erythema,\n",
            "blistering, and pigmentary changes.\n"
          ]
        }
      ],
      "source": [
        "print(wrap_text_preserve_newlines(str(docs[0].page_content)))"
      ]
    },
    {
      "cell_type": "code",
      "execution_count": null,
      "metadata": {
        "colab": {
          "base_uri": "https://localhost:8080/"
        },
        "id": "tsSGNm8UdsX3",
        "outputId": "c2484cdc-ea42-468b-d0bf-c51ac0df5a97"
      },
      "outputs": [
        {
          "output_type": "execute_result",
          "data": {
            "text/plain": [
              "[(Document(page_content='\\ufeffExcimer laser for the treatment of psoriasis: safety, efficacy, and patient acceptability.\\n\\nThe 308 nm excimer laser is a widely used device throughout the field of dermatology for many diseases including psoriasis.\\n\\nAlthough the laser has demonstrated clinical efficacy, there is a lack of literature outlining the safety, efficacy, and patient acceptability of the excimer laser.\\nA literature search on PubMed was used with combinations of the terms “excimer”, “excimer laser”, “308 nm”, “psoriasis”, “protocol”, “safety”, “efficacy”, acceptability”, “side effects”, and “dose”.\\n\\nThe search results were included if they contained information pertaining to excimer laser and psoriasis treatment and description of the safety, efficacy, and patient acceptability of the treatment.\\nThe 308 nm excimer laser is generally safe and well tolerated with minimal side effects including erythema, blistering, and pigmentary changes.', metadata={'source': '/Untitled document.txt'}),\n",
              "  0.6626176176105074),\n",
              " (Document(page_content='On average, 12.5 (SD 2.64) treatments were needed for resolution in children, while 9.7 (SD 2.53) sessions were needed for adults.\\n\\nCommon side effects associated with the laser were consistent with side effects seen in adult patients and included: hyperpigmentation, blistering, erosions, pain, and koebnerization.31 In general, side effects were more typical in the adult population with the most common one being erosions.\\n\\nHyperpigmentation was the most common side effect in the pediatric group.\\n\\nFuture studies pertaining to the safety of the 308 nm laser in the treatment of psoriasis will presumably include continued modification of the treatment protocol to reduce the number of treatments needed for plaque resolution, while still resulting in longer periods of plaque remission.\\nIn addition to psoriasis, a vast number of other cutaneous diseases can also be treated with the excimer laser.', metadata={'source': '/Untitled document.txt'}),\n",
              "  0.6566206689764378),\n",
              " (Document(page_content='Additionally, there is currently no long-term safety data on the effects of the more aggressive MBD treatment with regard to side effects and risk for long-term skin damage with high-dose treatments.\\nOverall, the 308 nm excimer laser is a very well tolerated treatment option for patients with psoriasis.\\n\\nThe major side effects identified were erythema, tenderness, and blistering at the sites of treatment.\\n\\nThese side effects are dependent on the treatment protocol utilized, as certain protocols like the MBD protocol require a more aggressive dosimetry, which may induce further side effects.\\n\\nNonetheless, even with a sub-blistering dose, patients tolerated the treatment very well and in clinical experience even the blistering and erythema are often well tolerated compared to their untreated psoriasis.', metadata={'source': '/Untitled document.txt'}),\n",
              "  0.6482394099018342),\n",
              " (Document(page_content='Although the excimer laser is not a first-line treatment, it remains an excellent treatment option for psoriasis patients and has been demonstrated to be an effective treatment with little to no side effects.\\n\\nThe excimer laser has been shown to be effective in difficult to treat psoriasis subtypes like palmoplantar pustular psoriasis, scalp, and nail psoriasis.\\n\\nIt has been shown to be an effective treatment option in combination therapy with topicals as well as a treatment option for psoriasis refractory to systemic treatment.\\n\\nAppropriate patient selection is important when considering excimer laser treatment for psoriasis.\\n\\nAlthough it may be difficult to justify excimer laser monotherapy especially with the advent of highly efficacious biologic agents, the excimer laser remains an excellent option for the treatment of psoriasis and should be considered an adjunct treatment option with topical or systemic agents.', metadata={'source': '/Untitled document.txt'}),\n",
              "  0.614179909417453)]"
            ]
          },
          "metadata": {},
          "execution_count": 219
        }
      ],
      "source": [
        "db.similarity_search_with_relevance_scores(query)"
      ]
    }
  ],
  "metadata": {
    "colab": {
      "provenance": [],
      "include_colab_link": true
    },
    "kernelspec": {
      "display_name": "Python 3",
      "name": "python3"
    },
    "language_info": {
      "name": "python"
    }
  },
  "nbformat": 4,
  "nbformat_minor": 0
}